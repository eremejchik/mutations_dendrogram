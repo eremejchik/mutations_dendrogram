{
 "cells": [
  {
   "cell_type": "code",
   "execution_count": 3,
   "id": "05f59fc9",
   "metadata": {},
   "outputs": [
    {
     "ename": "ValueError",
     "evalue": "Length n of condensed distance matrix 'y' must be a binomial coefficient, i.e.there must be a k such that (k \\choose 2)=n)!",
     "output_type": "error",
     "traceback": [
      "\u001b[1;31m---------------------------------------------------------------------------\u001b[0m",
      "\u001b[1;31mValueError\u001b[0m                                Traceback (most recent call last)",
      "\u001b[1;32m<ipython-input-3-07ed68b4a06b>\u001b[0m in \u001b[0;36m<module>\u001b[1;34m\u001b[0m\n\u001b[0;32m     30\u001b[0m \u001b[1;33m\u001b[0m\u001b[0m\n\u001b[0;32m     31\u001b[0m \u001b[0mm\u001b[0m \u001b[1;33m=\u001b[0m \u001b[0mmutation\u001b[0m\u001b[1;33m(\u001b[0m\u001b[1;34m'seqs123.txt'\u001b[0m\u001b[1;33m,\u001b[0m \u001b[1;34m'mut_file.txt'\u001b[0m\u001b[1;33m)\u001b[0m\u001b[1;33m\u001b[0m\u001b[1;33m\u001b[0m\u001b[0m\n\u001b[1;32m---> 32\u001b[1;33m \u001b[0mbuild_dendrogram\u001b[0m\u001b[1;33m(\u001b[0m\u001b[0mm\u001b[0m\u001b[1;33m)\u001b[0m\u001b[1;33m\u001b[0m\u001b[1;33m\u001b[0m\u001b[0m\n\u001b[0m",
      "\u001b[1;32m<ipython-input-3-07ed68b4a06b>\u001b[0m in \u001b[0;36mbuild_dendrogram\u001b[1;34m(data)\u001b[0m\n\u001b[0;32m     25\u001b[0m     \u001b[0mseqs_mutatiuns\u001b[0m \u001b[1;33m=\u001b[0m \u001b[1;33m[\u001b[0m\u001b[0mt\u001b[0m\u001b[1;33m[\u001b[0m\u001b[1;36m1\u001b[0m\u001b[1;33m]\u001b[0m \u001b[1;32mfor\u001b[0m \u001b[0mt\u001b[0m \u001b[1;32min\u001b[0m \u001b[0mdata\u001b[0m\u001b[1;33m]\u001b[0m\u001b[1;33m\u001b[0m\u001b[1;33m\u001b[0m\u001b[0m\n\u001b[0;32m     26\u001b[0m     \u001b[0mdistance_matrix\u001b[0m \u001b[1;33m=\u001b[0m \u001b[0mnp\u001b[0m\u001b[1;33m.\u001b[0m\u001b[0marray\u001b[0m\u001b[1;33m(\u001b[0m\u001b[0mseqs_mutatiuns\u001b[0m\u001b[1;33m)\u001b[0m\u001b[1;33m\u001b[0m\u001b[1;33m\u001b[0m\u001b[0m\n\u001b[1;32m---> 27\u001b[1;33m     \u001b[0mlinkage_matrix\u001b[0m \u001b[1;33m=\u001b[0m \u001b[0msch\u001b[0m\u001b[1;33m.\u001b[0m\u001b[0mlinkage\u001b[0m\u001b[1;33m(\u001b[0m\u001b[0mdistance_matrix\u001b[0m\u001b[1;33m,\u001b[0m \u001b[0mmethod\u001b[0m \u001b[1;33m=\u001b[0m \u001b[1;34m'complete'\u001b[0m\u001b[1;33m)\u001b[0m\u001b[1;33m\u001b[0m\u001b[1;33m\u001b[0m\u001b[0m\n\u001b[0m\u001b[0;32m     28\u001b[0m     \u001b[0mdendrogram\u001b[0m \u001b[1;33m=\u001b[0m \u001b[0msch\u001b[0m\u001b[1;33m.\u001b[0m\u001b[0mdendrogram\u001b[0m\u001b[1;33m(\u001b[0m\u001b[0mlinkage_matrix\u001b[0m\u001b[1;33m,\u001b[0m \u001b[0mlabels\u001b[0m \u001b[1;33m=\u001b[0m \u001b[0mseqs_names\u001b[0m\u001b[1;33m)\u001b[0m\u001b[1;33m\u001b[0m\u001b[1;33m\u001b[0m\u001b[0m\n\u001b[0;32m     29\u001b[0m     \u001b[1;32mreturn\u001b[0m \u001b[0mdendrogram\u001b[0m\u001b[1;33m\u001b[0m\u001b[1;33m\u001b[0m\u001b[0m\n",
      "\u001b[1;32m~\\anaconda3\\lib\\site-packages\\scipy\\cluster\\hierarchy.py\u001b[0m in \u001b[0;36mlinkage\u001b[1;34m(y, method, metric, optimal_ordering)\u001b[0m\n\u001b[0;32m   1047\u001b[0m \u001b[1;33m\u001b[0m\u001b[0m\n\u001b[0;32m   1048\u001b[0m     \u001b[1;32mif\u001b[0m \u001b[0my\u001b[0m\u001b[1;33m.\u001b[0m\u001b[0mndim\u001b[0m \u001b[1;33m==\u001b[0m \u001b[1;36m1\u001b[0m\u001b[1;33m:\u001b[0m\u001b[1;33m\u001b[0m\u001b[1;33m\u001b[0m\u001b[0m\n\u001b[1;32m-> 1049\u001b[1;33m         \u001b[0mdistance\u001b[0m\u001b[1;33m.\u001b[0m\u001b[0mis_valid_y\u001b[0m\u001b[1;33m(\u001b[0m\u001b[0my\u001b[0m\u001b[1;33m,\u001b[0m \u001b[0mthrow\u001b[0m\u001b[1;33m=\u001b[0m\u001b[1;32mTrue\u001b[0m\u001b[1;33m,\u001b[0m \u001b[0mname\u001b[0m\u001b[1;33m=\u001b[0m\u001b[1;34m'y'\u001b[0m\u001b[1;33m)\u001b[0m\u001b[1;33m\u001b[0m\u001b[1;33m\u001b[0m\u001b[0m\n\u001b[0m\u001b[0;32m   1050\u001b[0m         \u001b[1;33m[\u001b[0m\u001b[0my\u001b[0m\u001b[1;33m]\u001b[0m \u001b[1;33m=\u001b[0m \u001b[0m_copy_arrays_if_base_present\u001b[0m\u001b[1;33m(\u001b[0m\u001b[1;33m[\u001b[0m\u001b[0my\u001b[0m\u001b[1;33m]\u001b[0m\u001b[1;33m)\u001b[0m\u001b[1;33m\u001b[0m\u001b[1;33m\u001b[0m\u001b[0m\n\u001b[0;32m   1051\u001b[0m     \u001b[1;32melif\u001b[0m \u001b[0my\u001b[0m\u001b[1;33m.\u001b[0m\u001b[0mndim\u001b[0m \u001b[1;33m==\u001b[0m \u001b[1;36m2\u001b[0m\u001b[1;33m:\u001b[0m\u001b[1;33m\u001b[0m\u001b[1;33m\u001b[0m\u001b[0m\n",
      "\u001b[1;32m~\\anaconda3\\lib\\site-packages\\scipy\\spatial\\distance.py\u001b[0m in \u001b[0;36mis_valid_y\u001b[1;34m(y, warning, throw, name)\u001b[0m\n\u001b[0;32m   2365\u001b[0m         \u001b[1;32mif\u001b[0m \u001b[1;33m(\u001b[0m\u001b[0md\u001b[0m \u001b[1;33m*\u001b[0m \u001b[1;33m(\u001b[0m\u001b[0md\u001b[0m \u001b[1;33m-\u001b[0m \u001b[1;36m1\u001b[0m\u001b[1;33m)\u001b[0m \u001b[1;33m/\u001b[0m \u001b[1;36m2\u001b[0m\u001b[1;33m)\u001b[0m \u001b[1;33m!=\u001b[0m \u001b[0mn\u001b[0m\u001b[1;33m:\u001b[0m\u001b[1;33m\u001b[0m\u001b[1;33m\u001b[0m\u001b[0m\n\u001b[0;32m   2366\u001b[0m             \u001b[1;32mif\u001b[0m \u001b[0mname\u001b[0m\u001b[1;33m:\u001b[0m\u001b[1;33m\u001b[0m\u001b[1;33m\u001b[0m\u001b[0m\n\u001b[1;32m-> 2367\u001b[1;33m                 raise ValueError(('Length n of condensed distance matrix '\n\u001b[0m\u001b[0;32m   2368\u001b[0m                                   \u001b[1;34m'\\'%s\\' must be a binomial coefficient, i.e.'\u001b[0m\u001b[1;33m\u001b[0m\u001b[1;33m\u001b[0m\u001b[0m\n\u001b[0;32m   2369\u001b[0m                                   \u001b[1;34m'there must be a k such that '\u001b[0m\u001b[1;33m\u001b[0m\u001b[1;33m\u001b[0m\u001b[0m\n",
      "\u001b[1;31mValueError\u001b[0m: Length n of condensed distance matrix 'y' must be a binomial coefficient, i.e.there must be a k such that (k \\choose 2)=n)!"
     ]
    }
   ],
   "source": [
    "import scipy.cluster.hierarchy as sch\n",
    "import numpy as np\n",
    "\n",
    "def mutation(input_file, mut_file):\n",
    "    seq = []\n",
    "    mut_seq = []\n",
    "    with open(input_file, 'r') as f:\n",
    "        for line in f:\n",
    "            seq.append(line.strip())\n",
    "            mutation_data = []\n",
    "        with open(mut_file, 'r') as m:\n",
    "            for line in m:\n",
    "                mut_seq.append(line.strip())\n",
    "            for i in range(len(seq)):\n",
    "                mut =0\n",
    "                for j in range(len(mut_seq)):\n",
    "                    if seq[i].find(mut_seq[j])>=0:\n",
    "                        mut+=1\n",
    "                    \n",
    "                mutation_data.append((seq[i], mut))\n",
    "    return mutation_data\n",
    "\n",
    "def build_dendrogram(data):\n",
    "    seqs_names = [t[0] for t in data]\n",
    "    seqs_mutatiuns = [t[1] for t in data]\n",
    "    distance_matrix = np.array(seqs_mutatiuns)\n",
    "    linkage_matrix = sch.linkage(distance_matrix, method = 'complete')\n",
    "    dendrogram = sch.dendrogram(linkage_matrix, labels = seqs_names)\n",
    "    return dendrogram\n",
    "\n",
    "m = mutation('seqs123.txt', 'mut_file.txt')\n",
    "build_dendrogram(m)"
   ]
  },
  {
   "cell_type": "code",
   "execution_count": 2,
   "id": "f9b965c9",
   "metadata": {},
   "outputs": [
    {
     "name": "stdout",
     "output_type": "stream",
     "text": [
      "[('MGIPMGKSMLVLLTFLAFASCCIAAYRPSETLCGGELVDTLQFVCGDRGFYFSRPASRVSRRSRGIVEECCFRSCDLALLETYCATPAKSERDVSTPPTVLPDNFPRYPVGKFFQYDTWKQSTQRLRRGLPALLRARRGHVLAKELEAFREAKRHRPLIALPTQDPAHGGAPPEMASNRK', 4), ('MVSPDPQIIVVAPETELASMQVQRTEDGVTIIQIFWVGRKGELLRRTPVSSAMQTPMGIPMGKSMLVLLTFLAFASCCIAAYRPSETLCGGELVDTLQFVCGDRGFYFSRPASRVSRRSRGIVEECCFRSCDLALLETYCATPAKSERDVSTPPTVLPDNFPRYPVGKFFQYDTWKQSTQRLRRGLPALLRARRGHVLAKELEAFREAKRHRPLIALPTQDPAHGGAPPEMASNRK', 4), ('MGMPMGKSMLVLLTFLAFASCCIAAYRPSETLCGGELVDTLQFVCGDRGFYFSRPASRVSRRSRGIVEECCFRSCDLALLETYCATPAKSERDVSTPPTVLPDNFPRYPVGKFFQYDTWKQSTQRLRRGLPALLRARRGHVLAKELEAFREAKRHRPLIALPTQDPAHGGAPPEMASNRK', 4), ('MGIPMGKSMLVLLTFLAFASCCIAAYRPSETLCGGELVDTLQFVCGDRGFYFRLPGRPASRRVSRRSRGIVEECCFRSCDLALLETYCATPAKSERDVSTPPTVLPDNFPRYPVGKFFQYDTWKQSTQRLRRGLPALLRARRGHVLAKELEAFREAKRHRPLIALPTQDPAHGGAPPEMASNRK', 3), ('MVAYRPSETLCGGELVDTLQFVCGDRGFYFSRPASRVSRRSPGIVEECCFRSCDLALLETYCATPAKSE', 2), ('AYRPSETLCGGELVDTLQFVCGDRGFYFSRPASRVSRRRSPQRGIVEECCFRSCDLALLETYCATPAKSE', 3), ('MVSPDPQIIVVAPETELASMQVQRTEDGVTIIQIFWVGRKGELLRRTPVSSAMQTPMGIPMGKSMLVLLTFLAFASCCIAAYRPSETLCGGELVDTLQFVCGDRGFYFSRPASRVSRRSRGIVEECCFRSCDLALLETYC', 2), ('ATPAKSERDVSTPPTVLPDNFPRYP', 0), ('MGIPMGKSMLVLLTFLAFASCCIAAYRPSETLCGGELVDTLQFVCGDRGFYFSRPASRVSRRSRGIVEECCFRSCDLALLETYCATPAKSERDVSTPPTVLPDNFPRYPVGKFFQYDTWKQSTQRLRRGLPALLRARRGHVLAKELEAFREAKRHRPLIALPTQDPAHGGAPPEMASNRK', 4), ('MGIPMGKSMLVLLTFLAFASCCIAAYRPSETLCGGELVDTLQFVCGDRGFYFSRPASRVSRRSRGIVEECCFRSCDLALLETYCATPAKSERDVSTPPTVLPDNFPEIPLGKFFQYDTWKQSTQRLRRGLPALLRARRGHVLAKELEAFREAKRHRPLIALPTQDPAHGGAPPEMASNRK', 4), ('MGIPVGKSMLVLLISLAFALCCIAAYGPGETLCGGELVDTLQFVCSDRGFYFSRPSSRANRRSRGIVEECCFRSCDLALLETYCATPAKSERDVSTSQAVLPDDFPRYPVGKFFQYDTWRQSAGRLRRGLPALLRARRGRMLAKELKEFREAKRHRPLIVLPPKDPAHGGASSEMSSNHQ', 2), ('MGIPVGKSMLVLLISLAFALCCIAAYGPGETLCGGELVDTLQFVCSDRGFYFSRPSSRANRRSRGIVEECCFRSCDLALLETYCATPAKSERDVSTSQAVLPDDFPRYPVGKFFQYDTWRQSAGRLRRGLPALLRARRGRMLAKELKEFREAKRHRPLIVLPPKDPAHGGASSEMSSNHQ', 2), ('MGGSVAGFQVPMGIPVGKSMLVLLISLAFALCCIAAYGPGETLCGGELVDTLQFVCSDRGFYFSRPSSRANRRSRGIVEECCFRSCDLALLETYCATPAKSERDVSTSQAVLPDDFPRYPVGKFFQYDTWRQSAGRLRRGLPALLRARRGRMLAKELKEFREAKRHRPLIVLPPKDPAHGGASSEMSSNHQ', 2), ('MGGSVAGFQVPMGIPVGKSMLVLLISLAFALCCIAAYGPGETLCGGELVDTLQFVCSDRGFYFSRPSSRANRRSRGIVEECCFRSCDLALLETYCATPAKSERDVSTSQAVLPHLLSRTTSPDTPWASSSNMTPGDSPRDACAEACLPSCVPAGVACLPKSSKSSERPNVIVP', 1), ('LPDDFPRYPVGKFFQYDTWRQSAGRLRRGLPALLRARRGRMLAKELKEFREAKRHRPLIVLPPKDPAHGGASSEMSSNHQ', 1), ('MGIPVGKSMLVLLISLAFALCCIAAYRPSETLCGGELVDTLQFVCSDRGFYFSRPSSRANRRSRGIVEECCFRSCDLALLETYCATPAKSERDVSTSQAVLPDDFPRYPVGKFFKFDTWRQSAGRLRRGLPALLRARRGRMLAKELEAFREAKRHRPLIVLPPKDPAHGGASSEMSSNHQ', 4), ('MGIPVGKSMLVLLISLAFALCCIAAYRPSETLCGGELVDTLQFVCSDRGFYFSRPSSRANRRSRGIVEECCFRSCDLALLETYCATPAKSERDVSTSQAVLPDDFPRYPVGKFFKFDTWRQSAGRLRRGLPALLRARRGRMLAKELEAFREAKRHRPLIVLPPKDPAHGGASSEMSSNHQ', 4), ('MKPPKPPTSPSPSSEVPMGIPVGKSMLVLLISLAFALCCIAAYRPSETLCGGELVDTLQFVCSDRGFYFSRPSSRANRRSRGIVEECCFRSCDLALLETYCATPAKSERDVSTSQAVLPDDFPRYPVGKFFKFDTWRQSAGRLRRGLPALLRARRGRMLAKELEAFREAKRHRPLIVLPPKDPAHGGASSEMSSNHQ', 4), ('MGGSVAGFQVPMGIPVGKSMLVLLISLAFALCCIAAYRPSETLCGGELVDTLQFVCSDRGFYFSRPSSRANRRSRGIVEECCFRSCDLALLETYCATPAKSERDVSTSQAVLPDDFPRYPVGKFFKFDTWRQSAGRLRRGLPALLRARRGRMLAKELEAFREAKRHRPLIVLPPKDPAHGGASSEMSSNHQ', 4), ('RPSETLCGGELVDTLQFVCSDRGFYFSRPSGRANRRSRGIVEECCFRSCDLALLETYCATPAKSERDVSTSQAVLPDDFPRYPVGKFFKFDTWRQSAGRLRRGLPALLRARRGRMLAKELEAFREAKRHRPLIVLPPKDPAHGGASSEMSSNHQ', 4), ('MESHSSPPTLGHSFPGPQIRQGSDLGSPKFDHCFRWPLSAASRPAHNIDIGLFTSPTVSQRQLRFWKSVCAPNTHRTLRGGQDVGSAAPVSRKTTGHCPQFPPNLGIVPGSSNGLGVAPGHWGLPLGSRSPSATSTSAAPTSAALPPFSDPPAPADPTFGLAVPMGIPVGKSMLVLLISLAFALCCIAAYRPSETLCGGELVDTLQFVCSDRGFYFSRPSSRANRRSRGIVEECCFRSCDLALLETYCATPAKSERDVSTSQAVLPHLLSRTTSPDTPWASSSNSTPGDSPRDACAEACLPSCVPAGVACLPKSSKRSERPSATVP', 2), ('DDFPRYPVGKFFKFDTWRQSAGRLRRGLPALLRARRGRMLAKELEAFREAKRHRPLIVLPPKDPAHGGASSEMSSNHQ', 3)]\n"
     ]
    }
   ],
   "source": [
    "print(mutation('seqs123.txt', 'mut_file.txt'))"
   ]
  },
  {
   "cell_type": "code",
   "execution_count": null,
   "id": "5e14f857",
   "metadata": {},
   "outputs": [],
   "source": []
  }
 ],
 "metadata": {
  "kernelspec": {
   "display_name": "Python 3",
   "language": "python",
   "name": "python3"
  },
  "language_info": {
   "codemirror_mode": {
    "name": "ipython",
    "version": 3
   },
   "file_extension": ".py",
   "mimetype": "text/x-python",
   "name": "python",
   "nbconvert_exporter": "python",
   "pygments_lexer": "ipython3",
   "version": "3.8.8"
  }
 },
 "nbformat": 4,
 "nbformat_minor": 5
}
